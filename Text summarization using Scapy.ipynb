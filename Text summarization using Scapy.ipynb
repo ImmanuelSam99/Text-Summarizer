{
 "cells": [
  {
   "cell_type": "markdown",
   "id": "a37e4b04",
   "metadata": {},
   "source": [
    "# Text Summary"
   ]
  },
  {
   "cell_type": "markdown",
   "id": "cdc92274",
   "metadata": {},
   "source": [
    "## Initial Text (test using \"a blunder\" by Anton Chekhov)"
   ]
  },
  {
   "cell_type": "code",
   "execution_count": 1,
   "id": "f5b1b5e8",
   "metadata": {},
   "outputs": [],
   "source": [
    "maintext= \"\"\"ILYA SERGEITCH PEPLOV and his wife Kleopatra Petrovna were standing at the door, listening greedily. On the other side in the little drawing-room a love scene was apparently taking place between two persons: their daughter Natashenka and a teacher of the district school, called Shchupkin.\n",
    "\n",
    "\"He's rising!\" whispered Peplov, quivering with impatience and rubbing his hands. \"Now, Kleopatra, mind; as soon as they begin talking of their feelings, take down the ikon from the wall and we'll go in and bless them. . . . We'll catch him. . . . A blessing with an ikon is sacred and binding. . . He couldn't get out of it, if he brought it into court.\"\n",
    "\n",
    "On the other side of the door this was the conversation:\n",
    "\n",
    "\"Don't go on like that!\" said Shchupkin, striking a match against his checked trousers. \"I never wrote you any letters!\"\n",
    "\n",
    "\"I like that! As though I didn't know your writing!\" giggled the girl with an affected shriek, continually peeping at herself in the glass. \"I knew it at once! And what a queer man you are! You are a writing master, and you write like a spider! How can you teach writing if you write so badly yourself?\"\n",
    "\n",
    "\"H'm! . . . That means nothing. The great thing in writing lessons is not the hand one writes, but keeping the boys in order. You hit one on the head with a ruler, make another kneel down. . . . Besides, there's nothing in handwriting! Nekrassov was an author, but his handwriting's a disgrace, there's a specimen of it in his collected works.\"\n",
    "\n",
    "\"You are not Nekrassov. . . .\" (A sigh). \"I should love to marry an author. He'd always be writing poems to me.\"\n",
    "\n",
    "\"I can write you a poem, too, if you like.\"\n",
    "\n",
    "\"What can you write about?\"\n",
    "\n",
    "\"Love -- passion -- your eyes. You'll be crazy when you read it. It would draw a tear from a stone! And if I write you a real poem, will you let me kiss your hand?\"\n",
    "\n",
    "\"That's nothing much! You can kiss it now if you like.\"\n",
    "\n",
    "Shchupkin jumped up, and making sheepish eyes, bent over the fat little hand that smelt of egg soap.\n",
    "\n",
    "\"Take down the ikon,\" Peplov whispered in a fluster, pale with excitement, and buttoning his coat as he prodded his wife with his elbow. \"Come along, now!\"\n",
    "\n",
    "And without a second's delay Peplov flung open the door.\n",
    "\n",
    "\"Children,\" he muttered, lifting up his arms and blinking tearfully, \"the Lord bless you, my children. May you live -- be fruitful -- and multiply.\"\n",
    "\n",
    "\"And -- and I bless you, too,\" the mamma brought out, crying with happiness. \"May you be happy, my dear ones! Oh, you are taking from me my only treasure!\" she said to Shchupkin. \"Love my girl, be good to her. . . .\"\n",
    "\n",
    "Shchupkin's mouth fell open with amazement and alarm. The parents' attack was so bold and unexpected that he could not utter a single word.\n",
    "\n",
    "\"I'm in for it! I'm spliced!\" he thought, going limp with horror. \"It's all over with you now, my boy! There's no escape!\"\n",
    "\n",
    "And he bowed his head submissively, as though to say, \"Take me, I'm vanquished.\"\n",
    "\n",
    "\"Ble-blessings on you,\" the papa went on, and he, too, shed tears. \"Natashenka, my daughter, stand by his side. Kleopatra, give me the ikon.\"\n",
    "\n",
    "But at this point the father suddenly left off weeping, and his face was contorted with anger.\n",
    "\n",
    "\"You ninny!\" he said angrily to his wife. \"You are an idiot! Is that the ikon?\"\n",
    "\n",
    "\"Ach, saints alive!\"\n",
    "\n",
    "What had happened? The writing master raised himself and saw that he was saved; in her flutter the mamma had snatched from the wall the portrait of Lazhetchnikov, the author, in mistake for the ikon. Old Peplov and his wife stood disconcerted in the middle of the room, holding the portrait aloft, not knowing what to do or what to say. The writing master took advantage of the general confusion and slipped away.\n",
    "\n",
    "\"\"\""
   ]
  },
  {
   "cell_type": "markdown",
   "id": "2d72b2ef",
   "metadata": {},
   "source": [
    "## Installing spacy"
   ]
  },
  {
   "cell_type": "code",
   "execution_count": 5,
   "id": "36430486",
   "metadata": {},
   "outputs": [],
   "source": [
    "#!pip install -U spacy\n",
    "#!python -m spacy download en_core_web_sm #for english"
   ]
  },
  {
   "cell_type": "markdown",
   "id": "166763f7",
   "metadata": {},
   "source": [
    "### importing"
   ]
  },
  {
   "cell_type": "code",
   "execution_count": 7,
   "id": "fbe07d05",
   "metadata": {},
   "outputs": [],
   "source": [
    "import spacy"
   ]
  },
  {
   "cell_type": "markdown",
   "id": "9d05ed5d",
   "metadata": {},
   "source": [
    "#### Remove stop words and punctuation"
   ]
  },
  {
   "cell_type": "code",
   "execution_count": 8,
   "id": "5b80e838",
   "metadata": {},
   "outputs": [],
   "source": [
    "from spacy.lang.en.stop_words import STOP_WORDS\n",
    "from string import punctuation\n"
   ]
  },
  {
   "cell_type": "code",
   "execution_count": 13,
   "id": "1a22231c",
   "metadata": {},
   "outputs": [],
   "source": [
    "stop_words=list(STOP_WORDS)  #to show all stop words as a list"
   ]
  },
  {
   "cell_type": "code",
   "execution_count": 14,
   "id": "778c9a9e",
   "metadata": {},
   "outputs": [
    {
     "data": {
      "text/plain": [
       "['empty',\n",
       " 'through',\n",
       " 'take',\n",
       " 'two',\n",
       " 'onto',\n",
       " 'me',\n",
       " '‘d',\n",
       " 'seem',\n",
       " 'quite',\n",
       " 'because',\n",
       " 'on',\n",
       " 'just',\n",
       " 'see',\n",
       " 'ever',\n",
       " 'really',\n",
       " 'though',\n",
       " 'below',\n",
       " 'both',\n",
       " 'go',\n",
       " 'few',\n",
       " 'afterwards',\n",
       " 'namely',\n",
       " 'ca',\n",
       " 'whereby',\n",
       " 'and',\n",
       " 'during',\n",
       " 'hereafter',\n",
       " 'all',\n",
       " 'then',\n",
       " '‘ll',\n",
       " 'thereby',\n",
       " 'amongst',\n",
       " 'wherein',\n",
       " 'mine',\n",
       " 'sometime',\n",
       " 'his',\n",
       " 'still',\n",
       " 'each',\n",
       " 'well',\n",
       " '‘re',\n",
       " 'sixty',\n",
       " 'the',\n",
       " 'via',\n",
       " 'doing',\n",
       " 'already',\n",
       " 'its',\n",
       " 'but',\n",
       " 'mostly',\n",
       " 'whenever',\n",
       " 'never',\n",
       " 'together',\n",
       " 'yourselves',\n",
       " 'upon',\n",
       " 'per',\n",
       " 'often',\n",
       " 'bottom',\n",
       " 'hereby',\n",
       " '’re',\n",
       " 'amount',\n",
       " 'somehow',\n",
       " 'one',\n",
       " '’s',\n",
       " 'thus',\n",
       " 'those',\n",
       " 'although',\n",
       " 'until',\n",
       " 'within',\n",
       " 'show',\n",
       " 'another',\n",
       " 'is',\n",
       " 'can',\n",
       " 'get',\n",
       " 'nine',\n",
       " \"'m\",\n",
       " 'beyond',\n",
       " 'anywhere',\n",
       " 'out',\n",
       " 'seemed',\n",
       " 'formerly',\n",
       " 'might',\n",
       " 'our',\n",
       " 'you',\n",
       " 'nowhere',\n",
       " 'least',\n",
       " 'cannot',\n",
       " 'now',\n",
       " 'been',\n",
       " 'whom',\n",
       " 'thereafter',\n",
       " 'are',\n",
       " 'as',\n",
       " 'wherever',\n",
       " 'my',\n",
       " 'latter',\n",
       " 'ten',\n",
       " 'up',\n",
       " 'to',\n",
       " 'someone',\n",
       " 'will',\n",
       " 'indeed',\n",
       " '‘ve',\n",
       " 'us',\n",
       " 'last',\n",
       " 'thereupon',\n",
       " 'was',\n",
       " 'no',\n",
       " 'moreover',\n",
       " 'their',\n",
       " 'every',\n",
       " 'four',\n",
       " 'have',\n",
       " 'herself',\n",
       " 'we',\n",
       " 'first',\n",
       " 'would',\n",
       " 'without',\n",
       " '‘m',\n",
       " 'around',\n",
       " 'regarding',\n",
       " 'were',\n",
       " 'fifty',\n",
       " 'from',\n",
       " 'himself',\n",
       " 'ourselves',\n",
       " 'hereupon',\n",
       " 'yet',\n",
       " 'herein',\n",
       " 'an',\n",
       " 'yourself',\n",
       " 'myself',\n",
       " '’d',\n",
       " 'give',\n",
       " 'alone',\n",
       " 'themselves',\n",
       " 'please',\n",
       " 'when',\n",
       " 'several',\n",
       " 'i',\n",
       " 'did',\n",
       " 'various',\n",
       " 'whereafter',\n",
       " 'hence',\n",
       " 'back',\n",
       " 'eleven',\n",
       " 'whole',\n",
       " 'must',\n",
       " 'where',\n",
       " 'name',\n",
       " 'being',\n",
       " 'meanwhile',\n",
       " 'he',\n",
       " 'else',\n",
       " 'full',\n",
       " 'any',\n",
       " 'keep',\n",
       " 'with',\n",
       " 'what',\n",
       " 'down',\n",
       " 'therefore',\n",
       " 'due',\n",
       " 'of',\n",
       " 'for',\n",
       " 'ours',\n",
       " '’ll',\n",
       " 'say',\n",
       " 'among',\n",
       " \"'s\",\n",
       " 'call',\n",
       " 'side',\n",
       " 'unless',\n",
       " 'under',\n",
       " 'rather',\n",
       " 'this',\n",
       " 'nobody',\n",
       " 'front',\n",
       " 'could',\n",
       " 'him',\n",
       " 'beside',\n",
       " 'more',\n",
       " 'put',\n",
       " 'whence',\n",
       " 'nothing',\n",
       " 'everything',\n",
       " 'seems',\n",
       " 'anyhow',\n",
       " 'whither',\n",
       " 'others',\n",
       " 'part',\n",
       " 'why',\n",
       " 'between',\n",
       " 'nor',\n",
       " 'over',\n",
       " 'that',\n",
       " '’ve',\n",
       " 'everywhere',\n",
       " 'make',\n",
       " 'hundred',\n",
       " 'six',\n",
       " 'anyway',\n",
       " 'it',\n",
       " 'using',\n",
       " 'serious',\n",
       " 'besides',\n",
       " \"'ll\",\n",
       " 'much',\n",
       " 'perhaps',\n",
       " 'your',\n",
       " 'does',\n",
       " 'since',\n",
       " 'also',\n",
       " 'anything',\n",
       " 'than',\n",
       " 'they',\n",
       " 'there',\n",
       " 'less',\n",
       " 'some',\n",
       " 'too',\n",
       " 'twelve',\n",
       " 'eight',\n",
       " 'am',\n",
       " 'nevertheless',\n",
       " 'most',\n",
       " 'whose',\n",
       " 'towards',\n",
       " 'across',\n",
       " 'them',\n",
       " 'about',\n",
       " 'something',\n",
       " 'into',\n",
       " 'do',\n",
       " \"'ve\",\n",
       " 'otherwise',\n",
       " \"'re\",\n",
       " '‘s',\n",
       " 'fifteen',\n",
       " 'yours',\n",
       " '’m',\n",
       " 'whether',\n",
       " 'not',\n",
       " 'further',\n",
       " 'had',\n",
       " 'whereupon',\n",
       " 'so',\n",
       " 'whereas',\n",
       " 'sometimes',\n",
       " 'these',\n",
       " 'while',\n",
       " 'elsewhere',\n",
       " 'almost',\n",
       " 'toward',\n",
       " 'becomes',\n",
       " 'who',\n",
       " 'except',\n",
       " 'same',\n",
       " 'becoming',\n",
       " 'off',\n",
       " 'became',\n",
       " 'if',\n",
       " 'should',\n",
       " 'before',\n",
       " 'in',\n",
       " 'anyone',\n",
       " 'used',\n",
       " 'thence',\n",
       " 'such',\n",
       " 'enough',\n",
       " 'throughout',\n",
       " 'behind',\n",
       " 'which',\n",
       " 'move',\n",
       " 'above',\n",
       " 're',\n",
       " 'either',\n",
       " 'whatever',\n",
       " 'a',\n",
       " 'many',\n",
       " 'forty',\n",
       " 'five',\n",
       " 'may',\n",
       " 'always',\n",
       " 'again',\n",
       " 'somewhere',\n",
       " 'former',\n",
       " 'here',\n",
       " 'n’t',\n",
       " 'after',\n",
       " 'next',\n",
       " 'none',\n",
       " \"'d\",\n",
       " 'only',\n",
       " 'along',\n",
       " 'thru',\n",
       " 'how',\n",
       " 'once',\n",
       " 'twenty',\n",
       " 'noone',\n",
       " 'beforehand',\n",
       " 'third',\n",
       " 'seeming',\n",
       " 'she',\n",
       " 'everyone',\n",
       " 'top',\n",
       " 'however',\n",
       " 'n‘t',\n",
       " 'therein',\n",
       " 'hers',\n",
       " 'become',\n",
       " 'three',\n",
       " 'made',\n",
       " 'done',\n",
       " 'neither',\n",
       " 'be',\n",
       " 'against',\n",
       " 'or',\n",
       " 'her',\n",
       " 'very',\n",
       " \"n't\",\n",
       " 'latterly',\n",
       " 'by',\n",
       " 'other',\n",
       " 'at',\n",
       " 'has',\n",
       " 'itself',\n",
       " 'even',\n",
       " 'whoever',\n",
       " 'own']"
      ]
     },
     "execution_count": 14,
     "metadata": {},
     "output_type": "execute_result"
    }
   ],
   "source": [
    "stop_words #list of stop words"
   ]
  },
  {
   "cell_type": "markdown",
   "id": "4eb1b17d",
   "metadata": {},
   "source": [
    "#### Parsing"
   ]
  },
  {
   "cell_type": "code",
   "execution_count": 15,
   "id": "c1559cf2",
   "metadata": {},
   "outputs": [],
   "source": [
    "processor=spacy.load('en_core_web_sm')"
   ]
  },
  {
   "cell_type": "code",
   "execution_count": 16,
   "id": "4ab41779",
   "metadata": {},
   "outputs": [],
   "source": [
    "parsetext=processor(maintext)"
   ]
  },
  {
   "cell_type": "markdown",
   "id": "fbab851f",
   "metadata": {},
   "source": [
    "#### Tokenization"
   ]
  },
  {
   "cell_type": "code",
   "execution_count": 17,
   "id": "c2798d8f",
   "metadata": {},
   "outputs": [],
   "source": [
    "token=[token.text for token in parsetext]"
   ]
  },
  {
   "cell_type": "code",
   "execution_count": 18,
   "id": "7249df94",
   "metadata": {},
   "outputs": [
    {
     "name": "stdout",
     "output_type": "stream",
     "text": [
      "['ILYA', 'SERGEITCH', 'PEPLOV', 'and', 'his', 'wife', 'Kleopatra', 'Petrovna', 'were', 'standing', 'at', 'the', 'door', ',', 'listening', 'greedily', '.', 'On', 'the', 'other', 'side', 'in', 'the', 'little', 'drawing', '-', 'room', 'a', 'love', 'scene', 'was', 'apparently', 'taking', 'place', 'between', 'two', 'persons', ':', 'their', 'daughter', 'Natashenka', 'and', 'a', 'teacher', 'of', 'the', 'district', 'school', ',', 'called', 'Shchupkin', '.', '\\n\\n', '\"', 'He', \"'s\", 'rising', '!', '\"', 'whispered', 'Peplov', ',', 'quivering', 'with', 'impatience', 'and', 'rubbing', 'his', 'hands', '.', '\"', 'Now', ',', 'Kleopatra', ',', 'mind', ';', 'as', 'soon', 'as', 'they', 'begin', 'talking', 'of', 'their', 'feelings', ',', 'take', 'down', 'the', 'ikon', 'from', 'the', 'wall', 'and', 'we', \"'ll\", 'go', 'in', 'and', 'bless', 'them', '.', '.', '.', '.', 'We', \"'ll\", 'catch', 'him', '.', '.', '.', '.', 'A', 'blessing', 'with', 'an', 'ikon', 'is', 'sacred', 'and', 'binding', '.', '.', '.', 'He', 'could', \"n't\", 'get', 'out', 'of', 'it', ',', 'if', 'he', 'brought', 'it', 'into', 'court', '.', '\"', '\\n\\n', 'On', 'the', 'other', 'side', 'of', 'the', 'door', 'this', 'was', 'the', 'conversation', ':', '\\n\\n', '\"', 'Do', \"n't\", 'go', 'on', 'like', 'that', '!', '\"', 'said', 'Shchupkin', ',', 'striking', 'a', 'match', 'against', 'his', 'checked', 'trousers', '.', '\"', 'I', 'never', 'wrote', 'you', 'any', 'letters', '!', '\"', '\\n\\n', '\"', 'I', 'like', 'that', '!', 'As', 'though', 'I', 'did', \"n't\", 'know', 'your', 'writing', '!', '\"', 'giggled', 'the', 'girl', 'with', 'an', 'affected', 'shriek', ',', 'continually', 'peeping', 'at', 'herself', 'in', 'the', 'glass', '.', '\"', 'I', 'knew', 'it', 'at', 'once', '!', 'And', 'what', 'a', 'queer', 'man', 'you', 'are', '!', 'You', 'are', 'a', 'writing', 'master', ',', 'and', 'you', 'write', 'like', 'a', 'spider', '!', 'How', 'can', 'you', 'teach', 'writing', 'if', 'you', 'write', 'so', 'badly', 'yourself', '?', '\"', '\\n\\n', '\"', \"H'm\", '!', '.', '.', '.', 'That', 'means', 'nothing', '.', 'The', 'great', 'thing', 'in', 'writing', 'lessons', 'is', 'not', 'the', 'hand', 'one', 'writes', ',', 'but', 'keeping', 'the', 'boys', 'in', 'order', '.', 'You', 'hit', 'one', 'on', 'the', 'head', 'with', 'a', 'ruler', ',', 'make', 'another', 'kneel', 'down', '.', '.', '.', '.', 'Besides', ',', 'there', \"'s\", 'nothing', 'in', 'handwriting', '!', 'Nekrassov', 'was', 'an', 'author', ',', 'but', 'his', 'handwriting', \"'s\", 'a', 'disgrace', ',', 'there', \"'s\", 'a', 'specimen', 'of', 'it', 'in', 'his', 'collected', 'works', '.', '\"', '\\n\\n', '\"', 'You', 'are', 'not', 'Nekrassov', '.', '.', '.', '.', '\"', '(', 'A', 'sigh', ')', '.', '\"', 'I', 'should', 'love', 'to', 'marry', 'an', 'author', '.', 'He', \"'d\", 'always', 'be', 'writing', 'poems', 'to', 'me', '.', '\"', '\\n\\n', '\"', 'I', 'can', 'write', 'you', 'a', 'poem', ',', 'too', ',', 'if', 'you', 'like', '.', '\"', '\\n\\n', '\"', 'What', 'can', 'you', 'write', 'about', '?', '\"', '\\n\\n', '\"', 'Love', '--', 'passion', '--', 'your', 'eyes', '.', 'You', \"'ll\", 'be', 'crazy', 'when', 'you', 'read', 'it', '.', 'It', 'would', 'draw', 'a', 'tear', 'from', 'a', 'stone', '!', 'And', 'if', 'I', 'write', 'you', 'a', 'real', 'poem', ',', 'will', 'you', 'let', 'me', 'kiss', 'your', 'hand', '?', '\"', '\\n\\n', '\"', 'That', \"'s\", 'nothing', 'much', '!', 'You', 'can', 'kiss', 'it', 'now', 'if', 'you', 'like', '.', '\"', '\\n\\n', 'Shchupkin', 'jumped', 'up', ',', 'and', 'making', 'sheepish', 'eyes', ',', 'bent', 'over', 'the', 'fat', 'little', 'hand', 'that', 'smelt', 'of', 'egg', 'soap', '.', '\\n\\n', '\"', 'Take', 'down', 'the', 'ikon', ',', '\"', 'Peplov', 'whispered', 'in', 'a', 'fluster', ',', 'pale', 'with', 'excitement', ',', 'and', 'buttoning', 'his', 'coat', 'as', 'he', 'prodded', 'his', 'wife', 'with', 'his', 'elbow', '.', '\"', 'Come', 'along', ',', 'now', '!', '\"', '\\n\\n', 'And', 'without', 'a', 'second', \"'s\", 'delay', 'Peplov', 'flung', 'open', 'the', 'door', '.', '\\n\\n', '\"', 'Children', ',', '\"', 'he', 'muttered', ',', 'lifting', 'up', 'his', 'arms', 'and', 'blinking', 'tearfully', ',', '\"', 'the', 'Lord', 'bless', 'you', ',', 'my', 'children', '.', 'May', 'you', 'live', '--', 'be', 'fruitful', '--', 'and', 'multiply', '.', '\"', '\\n\\n', '\"', 'And', '--', 'and', 'I', 'bless', 'you', ',', 'too', ',', '\"', 'the', 'mamma', 'brought', 'out', ',', 'crying', 'with', 'happiness', '.', '\"', 'May', 'you', 'be', 'happy', ',', 'my', 'dear', 'ones', '!', 'Oh', ',', 'you', 'are', 'taking', 'from', 'me', 'my', 'only', 'treasure', '!', '\"', 'she', 'said', 'to', 'Shchupkin', '.', '\"', 'Love', 'my', 'girl', ',', 'be', 'good', 'to', 'her', '.', '.', '.', '.', '\"', '\\n\\n', 'Shchupkin', \"'s\", 'mouth', 'fell', 'open', 'with', 'amazement', 'and', 'alarm', '.', 'The', 'parents', \"'\", 'attack', 'was', 'so', 'bold', 'and', 'unexpected', 'that', 'he', 'could', 'not', 'utter', 'a', 'single', 'word', '.', '\\n\\n', '\"', 'I', \"'m\", 'in', 'for', 'it', '!', 'I', \"'m\", 'spliced', '!', '\"', 'he', 'thought', ',', 'going', 'limp', 'with', 'horror', '.', '\"', 'It', \"'s\", 'all', 'over', 'with', 'you', 'now', ',', 'my', 'boy', '!', 'There', \"'s\", 'no', 'escape', '!', '\"', '\\n\\n', 'And', 'he', 'bowed', 'his', 'head', 'submissively', ',', 'as', 'though', 'to', 'say', ',', '\"', 'Take', 'me', ',', 'I', \"'m\", 'vanquished', '.', '\"', '\\n\\n', '\"', 'Ble', '-', 'blessings', 'on', 'you', ',', '\"', 'the', 'papa', 'went', 'on', ',', 'and', 'he', ',', 'too', ',', 'shed', 'tears', '.', '\"', 'Natashenka', ',', 'my', 'daughter', ',', 'stand', 'by', 'his', 'side', '.', 'Kleopatra', ',', 'give', 'me', 'the', 'ikon', '.', '\"', '\\n\\n', 'But', 'at', 'this', 'point', 'the', 'father', 'suddenly', 'left', 'off', 'weeping', ',', 'and', 'his', 'face', 'was', 'contorted', 'with', 'anger', '.', '\\n\\n', '\"', 'You', 'ninny', '!', '\"', 'he', 'said', 'angrily', 'to', 'his', 'wife', '.', '\"', 'You', 'are', 'an', 'idiot', '!', 'Is', 'that', 'the', 'ikon', '?', '\"', '\\n\\n', '\"', 'Ach', ',', 'saints', 'alive', '!', '\"', '\\n\\n', 'What', 'had', 'happened', '?', 'The', 'writing', 'master', 'raised', 'himself', 'and', 'saw', 'that', 'he', 'was', 'saved', ';', 'in', 'her', 'flutter', 'the', 'mamma', 'had', 'snatched', 'from', 'the', 'wall', 'the', 'portrait', 'of', 'Lazhetchnikov', ',', 'the', 'author', ',', 'in', 'mistake', 'for', 'the', 'ikon', '.', 'Old', 'Peplov', 'and', 'his', 'wife', 'stood', 'disconcerted', 'in', 'the', 'middle', 'of', 'the', 'room', ',', 'holding', 'the', 'portrait', 'aloft', ',', 'not', 'knowing', 'what', 'to', 'do', 'or', 'what', 'to', 'say', '.', 'The', 'writing', 'master', 'took', 'advantage', 'of', 'the', 'general', 'confusion', 'and', 'slipped', 'away', '.', '\\n\\n']\n"
     ]
    }
   ],
   "source": [
    "print(token)"
   ]
  },
  {
   "cell_type": "code",
   "execution_count": 20,
   "id": "496fe5b3",
   "metadata": {},
   "outputs": [
    {
     "data": {
      "text/plain": [
       "'!\"#$%&\\'()*+,-./:;<=>?@[\\\\]^_`{|}~'"
      ]
     },
     "execution_count": 20,
     "metadata": {},
     "output_type": "execute_result"
    }
   ],
   "source": [
    "## Tokens still has punctuations\n",
    "punctuation"
   ]
  },
  {
   "cell_type": "code",
   "execution_count": 21,
   "id": "48e40263",
   "metadata": {},
   "outputs": [],
   "source": [
    "## add '\\n' to punctuations"
   ]
  },
  {
   "cell_type": "code",
   "execution_count": 57,
   "id": "70c84b94",
   "metadata": {},
   "outputs": [
    {
     "data": {
      "text/plain": [
       "'!\"#$%&\\'()*+,-./:;<=>?@[\\\\]^_`{|}~\\n\\n'"
      ]
     },
     "execution_count": 57,
     "metadata": {},
     "output_type": "execute_result"
    }
   ],
   "source": [
    "punc = punctuation + '\\n\\n'+\"\"\n",
    "punc"
   ]
  },
  {
   "cell_type": "markdown",
   "id": "0c2aeef9",
   "metadata": {},
   "source": [
    "### Word frequency table"
   ]
  },
  {
   "cell_type": "code",
   "execution_count": 58,
   "id": "bc2a0584",
   "metadata": {},
   "outputs": [
    {
     "name": "stdout",
     "output_type": "stream",
     "text": [
      "{'ILYA': 1, 'SERGEITCH': 1, 'PEPLOV': 1, 'wife': 4, 'Kleopatra': 3, 'Petrovna': 1, 'standing': 1, 'door': 3, 'listening': 1, 'greedily': 1, 'little': 2, 'drawing': 1, 'room': 2, 'love': 2, 'scene': 1, 'apparently': 1, 'taking': 2, 'place': 1, 'persons': 1, 'daughter': 2, 'Natashenka': 2, 'teacher': 1, 'district': 1, 'school': 1, 'called': 1, 'Shchupkin': 5, 'rising': 1, 'whispered': 2, 'Peplov': 4, 'quivering': 1, 'impatience': 1, 'rubbing': 1, 'hands': 1, 'mind': 1, 'soon': 1, 'begin': 1, 'talking': 1, 'feelings': 1, 'ikon': 6, 'wall': 2, 'bless': 3, 'catch': 1, 'blessing': 1, 'sacred': 1, 'binding': 1, 'brought': 2, 'court': 1, 'conversation': 1, 'like': 5, 'said': 3, 'striking': 1, 'match': 1, 'checked': 1, 'trousers': 1, 'wrote': 1, 'letters': 1, 'know': 1, 'writing': 7, 'giggled': 1, 'girl': 2, 'affected': 1, 'shriek': 1, 'continually': 1, 'peeping': 1, 'glass': 1, 'knew': 1, 'queer': 1, 'man': 1, 'master': 3, 'write': 5, 'spider': 1, 'teach': 1, 'badly': 1, \"H'm\": 1, 'means': 1, 'great': 1, 'thing': 1, 'lessons': 1, 'hand': 3, 'writes': 1, 'keeping': 1, 'boys': 1, 'order': 1, 'hit': 1, 'head': 2, 'ruler': 1, 'kneel': 1, 'handwriting': 2, 'Nekrassov': 2, 'author': 3, 'disgrace': 1, 'specimen': 1, 'collected': 1, 'works': 1, 'sigh': 1, 'marry': 1, 'poems': 1, 'poem': 2, 'Love': 2, '--': 5, 'passion': 1, 'eyes': 2, 'crazy': 1, 'read': 1, 'draw': 1, 'tear': 1, 'stone': 1, 'real': 1, 'let': 1, 'kiss': 2, 'jumped': 1, 'making': 1, 'sheepish': 1, 'bent': 1, 'fat': 1, 'smelt': 1, 'egg': 1, 'soap': 1, 'fluster': 1, 'pale': 1, 'excitement': 1, 'buttoning': 1, 'coat': 1, 'prodded': 1, 'elbow': 1, 'Come': 1, 'second': 1, 'delay': 1, 'flung': 1, 'open': 2, 'Children': 1, 'muttered': 1, 'lifting': 1, 'arms': 1, 'blinking': 1, 'tearfully': 1, 'Lord': 1, 'children': 1, 'live': 1, 'fruitful': 1, 'multiply': 1, 'mamma': 2, 'crying': 1, 'happiness': 1, 'happy': 1, 'dear': 1, 'ones': 1, 'Oh': 1, 'treasure': 1, 'good': 1, 'mouth': 1, 'fell': 1, 'amazement': 1, 'alarm': 1, 'parents': 1, 'attack': 1, 'bold': 1, 'unexpected': 1, 'utter': 1, 'single': 1, 'word': 1, 'spliced': 1, 'thought': 1, 'going': 1, 'limp': 1, 'horror': 1, 'boy': 1, 'escape': 1, 'bowed': 1, 'submissively': 1, 'vanquished': 1, 'Ble': 1, 'blessings': 1, 'papa': 1, 'went': 1, 'shed': 1, 'tears': 1, 'stand': 1, 'point': 1, 'father': 1, 'suddenly': 1, 'left': 1, 'weeping': 1, 'face': 1, 'contorted': 1, 'anger': 1, 'ninny': 1, 'angrily': 1, 'idiot': 1, 'Ach': 1, 'saints': 1, 'alive': 1, 'happened': 1, 'raised': 1, 'saw': 1, 'saved': 1, 'flutter': 1, 'snatched': 1, 'portrait': 2, 'Lazhetchnikov': 1, 'mistake': 1, 'Old': 1, 'stood': 1, 'disconcerted': 1, 'middle': 1, 'holding': 1, 'aloft': 1, 'knowing': 1, 'took': 1, 'advantage': 1, 'general': 1, 'confusion': 1, 'slipped': 1, 'away': 1}\n"
     ]
    }
   ],
   "source": [
    "# excludes punctuations\n",
    "\n",
    "word_frequencies = {}\n",
    "\n",
    "# Iterate over each token in the spaCy document\n",
    "for word in parsetext:\n",
    "    # Check if the lowercase version of the token is not in the stop words set\n",
    "    if word.text.lower() not in stop_words:\n",
    "        # Check if the lowercase version of the token is not in the punctuation string\n",
    "        if word.text.lower() not in punc:\n",
    "            # If the token is not in the word_frequencies dictionary, add it with a frequency of 1\n",
    "            if word.text not in word_frequencies.keys():\n",
    "                word_frequencies[word.text] = 1\n",
    "            # If the token is already in the word_frequencies dictionary, increment its frequency\n",
    "            else:\n",
    "                word_frequencies[word.text] += 1\n",
    "\n",
    "# Print the resulting word frequencies\n",
    "print(word_frequencies)\n"
   ]
  },
  {
   "cell_type": "code",
   "execution_count": 59,
   "id": "5efd5702",
   "metadata": {},
   "outputs": [
    {
     "data": {
      "text/plain": [
       "{'ILYA': 1,\n",
       " 'SERGEITCH': 1,\n",
       " 'PEPLOV': 1,\n",
       " 'wife': 4,\n",
       " 'Kleopatra': 3,\n",
       " 'Petrovna': 1,\n",
       " 'standing': 1,\n",
       " 'door': 3,\n",
       " 'listening': 1,\n",
       " 'greedily': 1,\n",
       " 'little': 2,\n",
       " 'drawing': 1,\n",
       " 'room': 2,\n",
       " 'love': 2,\n",
       " 'scene': 1,\n",
       " 'apparently': 1,\n",
       " 'taking': 2,\n",
       " 'place': 1,\n",
       " 'persons': 1,\n",
       " 'daughter': 2,\n",
       " 'Natashenka': 2,\n",
       " 'teacher': 1,\n",
       " 'district': 1,\n",
       " 'school': 1,\n",
       " 'called': 1,\n",
       " 'Shchupkin': 5,\n",
       " 'rising': 1,\n",
       " 'whispered': 2,\n",
       " 'Peplov': 4,\n",
       " 'quivering': 1,\n",
       " 'impatience': 1,\n",
       " 'rubbing': 1,\n",
       " 'hands': 1,\n",
       " 'mind': 1,\n",
       " 'soon': 1,\n",
       " 'begin': 1,\n",
       " 'talking': 1,\n",
       " 'feelings': 1,\n",
       " 'ikon': 6,\n",
       " 'wall': 2,\n",
       " 'bless': 3,\n",
       " 'catch': 1,\n",
       " 'blessing': 1,\n",
       " 'sacred': 1,\n",
       " 'binding': 1,\n",
       " 'brought': 2,\n",
       " 'court': 1,\n",
       " 'conversation': 1,\n",
       " 'like': 5,\n",
       " 'said': 3,\n",
       " 'striking': 1,\n",
       " 'match': 1,\n",
       " 'checked': 1,\n",
       " 'trousers': 1,\n",
       " 'wrote': 1,\n",
       " 'letters': 1,\n",
       " 'know': 1,\n",
       " 'writing': 7,\n",
       " 'giggled': 1,\n",
       " 'girl': 2,\n",
       " 'affected': 1,\n",
       " 'shriek': 1,\n",
       " 'continually': 1,\n",
       " 'peeping': 1,\n",
       " 'glass': 1,\n",
       " 'knew': 1,\n",
       " 'queer': 1,\n",
       " 'man': 1,\n",
       " 'master': 3,\n",
       " 'write': 5,\n",
       " 'spider': 1,\n",
       " 'teach': 1,\n",
       " 'badly': 1,\n",
       " \"H'm\": 1,\n",
       " 'means': 1,\n",
       " 'great': 1,\n",
       " 'thing': 1,\n",
       " 'lessons': 1,\n",
       " 'hand': 3,\n",
       " 'writes': 1,\n",
       " 'keeping': 1,\n",
       " 'boys': 1,\n",
       " 'order': 1,\n",
       " 'hit': 1,\n",
       " 'head': 2,\n",
       " 'ruler': 1,\n",
       " 'kneel': 1,\n",
       " 'handwriting': 2,\n",
       " 'Nekrassov': 2,\n",
       " 'author': 3,\n",
       " 'disgrace': 1,\n",
       " 'specimen': 1,\n",
       " 'collected': 1,\n",
       " 'works': 1,\n",
       " 'sigh': 1,\n",
       " 'marry': 1,\n",
       " 'poems': 1,\n",
       " 'poem': 2,\n",
       " 'Love': 2,\n",
       " '--': 5,\n",
       " 'passion': 1,\n",
       " 'eyes': 2,\n",
       " 'crazy': 1,\n",
       " 'read': 1,\n",
       " 'draw': 1,\n",
       " 'tear': 1,\n",
       " 'stone': 1,\n",
       " 'real': 1,\n",
       " 'let': 1,\n",
       " 'kiss': 2,\n",
       " 'jumped': 1,\n",
       " 'making': 1,\n",
       " 'sheepish': 1,\n",
       " 'bent': 1,\n",
       " 'fat': 1,\n",
       " 'smelt': 1,\n",
       " 'egg': 1,\n",
       " 'soap': 1,\n",
       " 'fluster': 1,\n",
       " 'pale': 1,\n",
       " 'excitement': 1,\n",
       " 'buttoning': 1,\n",
       " 'coat': 1,\n",
       " 'prodded': 1,\n",
       " 'elbow': 1,\n",
       " 'Come': 1,\n",
       " 'second': 1,\n",
       " 'delay': 1,\n",
       " 'flung': 1,\n",
       " 'open': 2,\n",
       " 'Children': 1,\n",
       " 'muttered': 1,\n",
       " 'lifting': 1,\n",
       " 'arms': 1,\n",
       " 'blinking': 1,\n",
       " 'tearfully': 1,\n",
       " 'Lord': 1,\n",
       " 'children': 1,\n",
       " 'live': 1,\n",
       " 'fruitful': 1,\n",
       " 'multiply': 1,\n",
       " 'mamma': 2,\n",
       " 'crying': 1,\n",
       " 'happiness': 1,\n",
       " 'happy': 1,\n",
       " 'dear': 1,\n",
       " 'ones': 1,\n",
       " 'Oh': 1,\n",
       " 'treasure': 1,\n",
       " 'good': 1,\n",
       " 'mouth': 1,\n",
       " 'fell': 1,\n",
       " 'amazement': 1,\n",
       " 'alarm': 1,\n",
       " 'parents': 1,\n",
       " 'attack': 1,\n",
       " 'bold': 1,\n",
       " 'unexpected': 1,\n",
       " 'utter': 1,\n",
       " 'single': 1,\n",
       " 'word': 1,\n",
       " 'spliced': 1,\n",
       " 'thought': 1,\n",
       " 'going': 1,\n",
       " 'limp': 1,\n",
       " 'horror': 1,\n",
       " 'boy': 1,\n",
       " 'escape': 1,\n",
       " 'bowed': 1,\n",
       " 'submissively': 1,\n",
       " 'vanquished': 1,\n",
       " 'Ble': 1,\n",
       " 'blessings': 1,\n",
       " 'papa': 1,\n",
       " 'went': 1,\n",
       " 'shed': 1,\n",
       " 'tears': 1,\n",
       " 'stand': 1,\n",
       " 'point': 1,\n",
       " 'father': 1,\n",
       " 'suddenly': 1,\n",
       " 'left': 1,\n",
       " 'weeping': 1,\n",
       " 'face': 1,\n",
       " 'contorted': 1,\n",
       " 'anger': 1,\n",
       " 'ninny': 1,\n",
       " 'angrily': 1,\n",
       " 'idiot': 1,\n",
       " 'Ach': 1,\n",
       " 'saints': 1,\n",
       " 'alive': 1,\n",
       " 'happened': 1,\n",
       " 'raised': 1,\n",
       " 'saw': 1,\n",
       " 'saved': 1,\n",
       " 'flutter': 1,\n",
       " 'snatched': 1,\n",
       " 'portrait': 2,\n",
       " 'Lazhetchnikov': 1,\n",
       " 'mistake': 1,\n",
       " 'Old': 1,\n",
       " 'stood': 1,\n",
       " 'disconcerted': 1,\n",
       " 'middle': 1,\n",
       " 'holding': 1,\n",
       " 'aloft': 1,\n",
       " 'knowing': 1,\n",
       " 'took': 1,\n",
       " 'advantage': 1,\n",
       " 'general': 1,\n",
       " 'confusion': 1,\n",
       " 'slipped': 1,\n",
       " 'away': 1}"
      ]
     },
     "execution_count": 59,
     "metadata": {},
     "output_type": "execute_result"
    }
   ],
   "source": [
    "word_frequencies"
   ]
  },
  {
   "cell_type": "code",
   "execution_count": 60,
   "id": "692b06c8",
   "metadata": {},
   "outputs": [
    {
     "data": {
      "text/plain": [
       "7"
      ]
     },
     "execution_count": 60,
     "metadata": {},
     "output_type": "execute_result"
    }
   ],
   "source": [
    "# finding the max frequency of occuring words\n",
    "max_frequency_occuring=max(word_frequencies.values())\n",
    "max_frequency_occuring\n",
    "\n",
    "# (writing occurs 7 times) "
   ]
  },
  {
   "cell_type": "markdown",
   "id": "bbad7a39",
   "metadata": {},
   "source": [
    "### Normalizing the frequencies"
   ]
  },
  {
   "cell_type": "code",
   "execution_count": 61,
   "id": "d86bef5d",
   "metadata": {},
   "outputs": [
    {
     "name": "stdout",
     "output_type": "stream",
     "text": [
      "{'ILYA': 0.14285714285714285, 'SERGEITCH': 0.14285714285714285, 'PEPLOV': 0.14285714285714285, 'wife': 0.5714285714285714, 'Kleopatra': 0.42857142857142855, 'Petrovna': 0.14285714285714285, 'standing': 0.14285714285714285, 'door': 0.42857142857142855, 'listening': 0.14285714285714285, 'greedily': 0.14285714285714285, 'little': 0.2857142857142857, 'drawing': 0.14285714285714285, 'room': 0.2857142857142857, 'love': 0.2857142857142857, 'scene': 0.14285714285714285, 'apparently': 0.14285714285714285, 'taking': 0.2857142857142857, 'place': 0.14285714285714285, 'persons': 0.14285714285714285, 'daughter': 0.2857142857142857, 'Natashenka': 0.2857142857142857, 'teacher': 0.14285714285714285, 'district': 0.14285714285714285, 'school': 0.14285714285714285, 'called': 0.14285714285714285, 'Shchupkin': 0.7142857142857143, 'rising': 0.14285714285714285, 'whispered': 0.2857142857142857, 'Peplov': 0.5714285714285714, 'quivering': 0.14285714285714285, 'impatience': 0.14285714285714285, 'rubbing': 0.14285714285714285, 'hands': 0.14285714285714285, 'mind': 0.14285714285714285, 'soon': 0.14285714285714285, 'begin': 0.14285714285714285, 'talking': 0.14285714285714285, 'feelings': 0.14285714285714285, 'ikon': 0.8571428571428571, 'wall': 0.2857142857142857, 'bless': 0.42857142857142855, 'catch': 0.14285714285714285, 'blessing': 0.14285714285714285, 'sacred': 0.14285714285714285, 'binding': 0.14285714285714285, 'brought': 0.2857142857142857, 'court': 0.14285714285714285, 'conversation': 0.14285714285714285, 'like': 0.7142857142857143, 'said': 0.42857142857142855, 'striking': 0.14285714285714285, 'match': 0.14285714285714285, 'checked': 0.14285714285714285, 'trousers': 0.14285714285714285, 'wrote': 0.14285714285714285, 'letters': 0.14285714285714285, 'know': 0.14285714285714285, 'writing': 1.0, 'giggled': 0.14285714285714285, 'girl': 0.2857142857142857, 'affected': 0.14285714285714285, 'shriek': 0.14285714285714285, 'continually': 0.14285714285714285, 'peeping': 0.14285714285714285, 'glass': 0.14285714285714285, 'knew': 0.14285714285714285, 'queer': 0.14285714285714285, 'man': 0.14285714285714285, 'master': 0.42857142857142855, 'write': 0.7142857142857143, 'spider': 0.14285714285714285, 'teach': 0.14285714285714285, 'badly': 0.14285714285714285, \"H'm\": 0.14285714285714285, 'means': 0.14285714285714285, 'great': 0.14285714285714285, 'thing': 0.14285714285714285, 'lessons': 0.14285714285714285, 'hand': 0.42857142857142855, 'writes': 0.14285714285714285, 'keeping': 0.14285714285714285, 'boys': 0.14285714285714285, 'order': 0.14285714285714285, 'hit': 0.14285714285714285, 'head': 0.2857142857142857, 'ruler': 0.14285714285714285, 'kneel': 0.14285714285714285, 'handwriting': 0.2857142857142857, 'Nekrassov': 0.2857142857142857, 'author': 0.42857142857142855, 'disgrace': 0.14285714285714285, 'specimen': 0.14285714285714285, 'collected': 0.14285714285714285, 'works': 0.14285714285714285, 'sigh': 0.14285714285714285, 'marry': 0.14285714285714285, 'poems': 0.14285714285714285, 'poem': 0.2857142857142857, 'Love': 0.2857142857142857, '--': 0.7142857142857143, 'passion': 0.14285714285714285, 'eyes': 0.2857142857142857, 'crazy': 0.14285714285714285, 'read': 0.14285714285714285, 'draw': 0.14285714285714285, 'tear': 0.14285714285714285, 'stone': 0.14285714285714285, 'real': 0.14285714285714285, 'let': 0.14285714285714285, 'kiss': 0.2857142857142857, 'jumped': 0.14285714285714285, 'making': 0.14285714285714285, 'sheepish': 0.14285714285714285, 'bent': 0.14285714285714285, 'fat': 0.14285714285714285, 'smelt': 0.14285714285714285, 'egg': 0.14285714285714285, 'soap': 0.14285714285714285, 'fluster': 0.14285714285714285, 'pale': 0.14285714285714285, 'excitement': 0.14285714285714285, 'buttoning': 0.14285714285714285, 'coat': 0.14285714285714285, 'prodded': 0.14285714285714285, 'elbow': 0.14285714285714285, 'Come': 0.14285714285714285, 'second': 0.14285714285714285, 'delay': 0.14285714285714285, 'flung': 0.14285714285714285, 'open': 0.2857142857142857, 'Children': 0.14285714285714285, 'muttered': 0.14285714285714285, 'lifting': 0.14285714285714285, 'arms': 0.14285714285714285, 'blinking': 0.14285714285714285, 'tearfully': 0.14285714285714285, 'Lord': 0.14285714285714285, 'children': 0.14285714285714285, 'live': 0.14285714285714285, 'fruitful': 0.14285714285714285, 'multiply': 0.14285714285714285, 'mamma': 0.2857142857142857, 'crying': 0.14285714285714285, 'happiness': 0.14285714285714285, 'happy': 0.14285714285714285, 'dear': 0.14285714285714285, 'ones': 0.14285714285714285, 'Oh': 0.14285714285714285, 'treasure': 0.14285714285714285, 'good': 0.14285714285714285, 'mouth': 0.14285714285714285, 'fell': 0.14285714285714285, 'amazement': 0.14285714285714285, 'alarm': 0.14285714285714285, 'parents': 0.14285714285714285, 'attack': 0.14285714285714285, 'bold': 0.14285714285714285, 'unexpected': 0.14285714285714285, 'utter': 0.14285714285714285, 'single': 0.14285714285714285, 'word': 0.14285714285714285, 'spliced': 0.14285714285714285, 'thought': 0.14285714285714285, 'going': 0.14285714285714285, 'limp': 0.14285714285714285, 'horror': 0.14285714285714285, 'boy': 0.14285714285714285, 'escape': 0.14285714285714285, 'bowed': 0.14285714285714285, 'submissively': 0.14285714285714285, 'vanquished': 0.14285714285714285, 'Ble': 0.14285714285714285, 'blessings': 0.14285714285714285, 'papa': 0.14285714285714285, 'went': 0.14285714285714285, 'shed': 0.14285714285714285, 'tears': 0.14285714285714285, 'stand': 0.14285714285714285, 'point': 0.14285714285714285, 'father': 0.14285714285714285, 'suddenly': 0.14285714285714285, 'left': 0.14285714285714285, 'weeping': 0.14285714285714285, 'face': 0.14285714285714285, 'contorted': 0.14285714285714285, 'anger': 0.14285714285714285, 'ninny': 0.14285714285714285, 'angrily': 0.14285714285714285, 'idiot': 0.14285714285714285, 'Ach': 0.14285714285714285, 'saints': 0.14285714285714285, 'alive': 0.14285714285714285, 'happened': 0.14285714285714285, 'raised': 0.14285714285714285, 'saw': 0.14285714285714285, 'saved': 0.14285714285714285, 'flutter': 0.14285714285714285, 'snatched': 0.14285714285714285, 'portrait': 0.2857142857142857, 'Lazhetchnikov': 0.14285714285714285, 'mistake': 0.14285714285714285, 'Old': 0.14285714285714285, 'stood': 0.14285714285714285, 'disconcerted': 0.14285714285714285, 'middle': 0.14285714285714285, 'holding': 0.14285714285714285, 'aloft': 0.14285714285714285, 'knowing': 0.14285714285714285, 'took': 0.14285714285714285, 'advantage': 0.14285714285714285, 'general': 0.14285714285714285, 'confusion': 0.14285714285714285, 'slipped': 0.14285714285714285, 'away': 0.14285714285714285}\n"
     ]
    }
   ],
   "source": [
    "for word in word_frequencies.keys():\n",
    "    word_frequencies[word] = word_frequencies[word]/max_frequency_occuring\n",
    "\n",
    "print(word_frequencies)"
   ]
  },
  {
   "cell_type": "markdown",
   "id": "754d9cb1",
   "metadata": {},
   "source": [
    "### sentence tokenization"
   ]
  },
  {
   "cell_type": "code",
   "execution_count": 62,
   "id": "ff290e67",
   "metadata": {},
   "outputs": [
    {
     "name": "stdout",
     "output_type": "stream",
     "text": [
      "[ILYA SERGEITCH PEPLOV and his wife Kleopatra Petrovna were standing at the door, listening greedily., On the other side in the little drawing-room a love scene was apparently taking place between two persons: their daughter Natashenka and a teacher of the district school, called Shchupkin.\n",
      "\n",
      ", \"He's rising!\", whispered Peplov, quivering with impatience and rubbing his hands., \"Now, Kleopatra, mind; as soon as they begin talking of their feelings, take down the ikon from the wall and we'll go in and bless them. ., . ., We'll catch him. . . ., A blessing with an ikon is sacred and binding. . ., He couldn't get out of it, if he brought it into court., \"\n",
      "\n",
      "On the other side of the door this was the conversation:\n",
      "\n",
      "\"Don't go on like that!\", said Shchupkin, striking a match against his checked trousers., \"I never wrote you any letters!\"\n",
      "\n",
      "\"I like that!, As though I didn't know your writing!\", giggled the girl with an affected shriek, continually peeping at herself in the glass., \"I knew it at once!, And what a queer man you are!, You are a writing master, and you write like a spider!, How can you teach writing if you write so badly yourself?\"\n",
      "\n",
      "\"H'm! . . ., That means nothing., The great thing in writing lessons is not the hand one writes, but keeping the boys in order., You hit one on the head with a ruler, make another kneel down. . . ., Besides, there's nothing in handwriting!, Nekrassov was an author, but his handwriting's a disgrace, there's a specimen of it in his collected works., \"\n",
      "\n",
      "\"You are not Nekrassov. . . .\", (A sigh)., \"I should love to marry an author., He'd always be writing poems to me., \"\n",
      "\n",
      "\"I can write you a poem, too, if you like., \"\n",
      "\n",
      "\"What can you write about?\"\n",
      "\n",
      "\"Love -- passion -- your eyes., You'll be crazy when you read it., It would draw a tear from a stone!, And if I write you a real poem, will you let me kiss your hand?\"\n",
      "\n",
      "\"That's nothing much!, You can kiss it now if you like., \"\n",
      "\n",
      "Shchupkin jumped up, and making sheepish eyes, bent over the fat little hand that smelt of egg soap.\n",
      "\n",
      ", \"Take down the ikon,\" Peplov whispered in a fluster, pale with excitement, and buttoning his coat as he prodded his wife with his elbow., \"Come along, now!\"\n",
      "\n",
      ", And without a second's delay Peplov flung open the door.\n",
      "\n",
      ", \"Children,\" he muttered, lifting up his arms and blinking tearfully, \"the Lord bless you, my children., May you live -- be fruitful -- and multiply., \"\n",
      "\n",
      "\"And -- and I bless you, too,\" the mamma brought out, crying with happiness., \"May you be happy, my dear ones!, Oh, you are taking from me my only treasure!\", she said to Shchupkin., \"Love my girl, be good to her. . . ., \"\n",
      "\n",
      "Shchupkin's mouth fell open with amazement and alarm., The parents' attack was so bold and unexpected that he could not utter a single word.\n",
      "\n",
      ", \"I'm in for it!, I'm spliced!\", he thought, going limp with horror., \"It's all over with you now, my boy!, There's no escape!\"\n",
      "\n",
      ", And he bowed his head submissively, as though to say, \"Take me, I'm vanquished., \"\n",
      "\n",
      "\"Ble-blessings on you,\" the papa went on, and he, too, shed tears., \"Natashenka, my daughter, stand by his side., Kleopatra, give me the ikon.\"\n",
      "\n",
      ", But at this point the father suddenly left off weeping, and his face was contorted with anger.\n",
      "\n",
      ", \"You ninny!\", he said angrily to his wife., \"You are an idiot!, Is that the ikon?\"\n",
      "\n",
      "\"Ach, saints alive!\"\n",
      "\n",
      "What had happened?, The writing master raised himself and saw that he was saved; in her flutter the mamma had snatched from the wall the portrait of Lazhetchnikov, the author, in mistake for the ikon., Old Peplov and his wife stood disconcerted in the middle of the room, holding the portrait aloft, not knowing what to do or what to say., The writing master took advantage of the general confusion and slipped away.\n",
      "\n",
      "]\n"
     ]
    }
   ],
   "source": [
    "sentence_tokens = [sent for sent in parsetext.sents]\n",
    "print(sentence_tokens)"
   ]
  },
  {
   "cell_type": "markdown",
   "id": "317103a2",
   "metadata": {},
   "source": [
    "### calculating sentence score"
   ]
  },
  {
   "cell_type": "code",
   "execution_count": 63,
   "id": "817e5d21",
   "metadata": {},
   "outputs": [
    {
     "data": {
      "text/plain": [
       "{ILYA SERGEITCH PEPLOV and his wife Kleopatra Petrovna were standing at the door, listening greedily.: 1.4285714285714284,\n",
       " On the other side in the little drawing-room a love scene was apparently taking place between two persons: their daughter Natashenka and a teacher of the district school, called Shchupkin.\n",
       " : 2.7142857142857135,\n",
       " \"He's rising!\": 0.14285714285714285,\n",
       " whispered Peplov, quivering with impatience and rubbing his hands.: 0.857142857142857,\n",
       " \"Now, Kleopatra, mind; as soon as they begin talking of their feelings, take down the ikon from the wall and we'll go in and bless them. .: 2.285714285714285,\n",
       " We'll catch him. . . .: 0.14285714285714285,\n",
       " A blessing with an ikon is sacred and binding. . .: 1.2857142857142856,\n",
       " He couldn't get out of it, if he brought it into court.: 0.42857142857142855,\n",
       " \"\n",
       " \n",
       " On the other side of the door this was the conversation:\n",
       " \n",
       " \"Don't go on like that!\": 1.2857142857142856,\n",
       " said Shchupkin, striking a match against his checked trousers.: 0.9999999999999998,\n",
       " \"I never wrote you any letters!\"\n",
       " \n",
       " \"I like that!: 1.0,\n",
       " As though I didn't know your writing!\": 1.1428571428571428,\n",
       " giggled the girl with an affected shriek, continually peeping at herself in the glass.: 1.1428571428571426,\n",
       " \"I knew it at once!: 0.14285714285714285,\n",
       " And what a queer man you are!: 0.2857142857142857,\n",
       " You are a writing master, and you write like a spider!: 3.0,\n",
       " How can you teach writing if you write so badly yourself?\"\n",
       " \n",
       " \"H'm! . . .: 2.0,\n",
       " That means nothing.: 0.14285714285714285,\n",
       " The great thing in writing lessons is not the hand one writes, but keeping the boys in order.: 2.4285714285714284,\n",
       " You hit one on the head with a ruler, make another kneel down. . . .: 0.7142857142857142,\n",
       " Besides, there's nothing in handwriting!: 0.2857142857142857,\n",
       " Nekrassov was an author, but his handwriting's a disgrace, there's a specimen of it in his collected works.: 1.2857142857142854,\n",
       " (A sigh).: 0.14285714285714285,\n",
       " \"I should love to marry an author.: 0.8571428571428571,\n",
       " He'd always be writing poems to me.: 1.1428571428571428,\n",
       " \"\n",
       " \n",
       " \"I can write you a poem, too, if you like.: 1.7142857142857144,\n",
       " \"\n",
       " \n",
       " \"What can you write about?\"\n",
       " \n",
       " \"Love -- passion -- your eyes.: 2.857142857142857,\n",
       " You'll be crazy when you read it.: 0.2857142857142857,\n",
       " It would draw a tear from a stone!: 0.42857142857142855,\n",
       " And if I write you a real poem, will you let me kiss your hand?\"\n",
       " \n",
       " \"That's nothing much!: 1.9999999999999998,\n",
       " You can kiss it now if you like.: 1.0,\n",
       " \"\n",
       " \n",
       " Shchupkin jumped up, and making sheepish eyes, bent over the fat little hand that smelt of egg soap.\n",
       " : 2.142857142857143,\n",
       " \"Take down the ikon,\" Peplov whispered in a fluster, pale with excitement, and buttoning his coat as he prodded his wife with his elbow.: 2.714285714285714,\n",
       " And without a second's delay Peplov flung open the door.\n",
       " : 1.1428571428571428,\n",
       " \"Children,\" he muttered, lifting up his arms and blinking tearfully, \"the Lord bless you, my children.: 1.4285714285714284,\n",
       " May you live -- be fruitful -- and multiply.: 1.8571428571428572,\n",
       " \"\n",
       " \n",
       " \"And -- and I bless you, too,\" the mamma brought out, crying with happiness.: 1.9999999999999996,\n",
       " \"May you be happy, my dear ones!: 0.42857142857142855,\n",
       " Oh, you are taking from me my only treasure!\": 0.42857142857142855,\n",
       " she said to Shchupkin.: 0.42857142857142855,\n",
       " \"Love my girl, be good to her. . . .: 0.7142857142857142,\n",
       " \"\n",
       " \n",
       " Shchupkin's mouth fell open with amazement and alarm.: 0.857142857142857,\n",
       " The parents' attack was so bold and unexpected that he could not utter a single word.\n",
       " : 0.9999999999999998,\n",
       " I'm spliced!\": 0.14285714285714285,\n",
       " he thought, going limp with horror.: 0.5714285714285714,\n",
       " \"It's all over with you now, my boy!: 0.14285714285714285,\n",
       " There's no escape!\"\n",
       " : 0.14285714285714285,\n",
       " And he bowed his head submissively, as though to say, \"Take me, I'm vanquished.: 0.7142857142857142,\n",
       " \"\n",
       " \n",
       " \"Ble-blessings on you,\" the papa went on, and he, too, shed tears.: 0.7142857142857142,\n",
       " \"Natashenka, my daughter, stand by his side.: 0.42857142857142855,\n",
       " Kleopatra, give me the ikon.\"\n",
       " : 0.8571428571428571,\n",
       " But at this point the father suddenly left off weeping, and his face was contorted with anger.\n",
       " : 1.1428571428571426,\n",
       " \"You ninny!\": 0.14285714285714285,\n",
       " he said angrily to his wife.: 1.1428571428571428,\n",
       " \"You are an idiot!: 0.14285714285714285,\n",
       " Is that the ikon?\"\n",
       " \n",
       " \"Ach, saints alive!\"\n",
       " \n",
       " What had happened?: 1.2857142857142856,\n",
       " The writing master raised himself and saw that he was saved; in her flutter the mamma had snatched from the wall the portrait of Lazhetchnikov, the author, in mistake for the ikon.: 4.428571428571428,\n",
       " Old Peplov and his wife stood disconcerted in the middle of the room, holding the portrait aloft, not knowing what to do or what to say.: 1.9999999999999996,\n",
       " The writing master took advantage of the general confusion and slipped away.\n",
       " : 2.2857142857142856}"
      ]
     },
     "execution_count": 63,
     "metadata": {},
     "output_type": "execute_result"
    }
   ],
   "source": [
    "sentence_scores = {}\n",
    "for sent in sentence_tokens:\n",
    "    for word in sent:\n",
    "        if word.text.lower() in word_frequencies.keys():\n",
    "            if sent not in sentence_scores.keys():\n",
    "                sentence_scores[sent] = word_frequencies[word.text.lower()]\n",
    "            else:\n",
    "                sentence_scores[sent] += word_frequencies[word.text.lower()]\n",
    "                \n",
    "sentence_scores"
   ]
  },
  {
   "cell_type": "markdown",
   "id": "7a7cfa3f",
   "metadata": {},
   "source": [
    "### select the sentences with the largest scores (30%)"
   ]
  },
  {
   "cell_type": "code",
   "execution_count": 64,
   "id": "116dc554",
   "metadata": {},
   "outputs": [],
   "source": [
    "from heapq import nlargest"
   ]
  },
  {
   "cell_type": "code",
   "execution_count": 65,
   "id": "9bba5342",
   "metadata": {},
   "outputs": [
    {
     "data": {
      "text/plain": [
       "18"
      ]
     },
     "execution_count": 65,
     "metadata": {},
     "output_type": "execute_result"
    }
   ],
   "source": [
    "select_length = int(len(sentence_tokens)*0.3)\n",
    "select_length\n",
    "\n",
    "##choose 30% and the summary with have 18 lines"
   ]
  },
  {
   "cell_type": "code",
   "execution_count": 66,
   "id": "7418c9e4",
   "metadata": {},
   "outputs": [
    {
     "data": {
      "text/plain": [
       "[The writing master raised himself and saw that he was saved; in her flutter the mamma had snatched from the wall the portrait of Lazhetchnikov, the author, in mistake for the ikon.,\n",
       " You are a writing master, and you write like a spider!,\n",
       " \"\n",
       " \n",
       " \"What can you write about?\"\n",
       " \n",
       " \"Love -- passion -- your eyes.,\n",
       " \"Take down the ikon,\" Peplov whispered in a fluster, pale with excitement, and buttoning his coat as he prodded his wife with his elbow.,\n",
       " On the other side in the little drawing-room a love scene was apparently taking place between two persons: their daughter Natashenka and a teacher of the district school, called Shchupkin.\n",
       " ,\n",
       " The great thing in writing lessons is not the hand one writes, but keeping the boys in order.,\n",
       " The writing master took advantage of the general confusion and slipped away.\n",
       " ,\n",
       " \"Now, Kleopatra, mind; as soon as they begin talking of their feelings, take down the ikon from the wall and we'll go in and bless them. .,\n",
       " \"\n",
       " \n",
       " Shchupkin jumped up, and making sheepish eyes, bent over the fat little hand that smelt of egg soap.\n",
       " ,\n",
       " How can you teach writing if you write so badly yourself?\"\n",
       " \n",
       " \"H'm! . . .,\n",
       " And if I write you a real poem, will you let me kiss your hand?\"\n",
       " \n",
       " \"That's nothing much!,\n",
       " \"\n",
       " \n",
       " \"And -- and I bless you, too,\" the mamma brought out, crying with happiness.,\n",
       " Old Peplov and his wife stood disconcerted in the middle of the room, holding the portrait aloft, not knowing what to do or what to say.,\n",
       " May you live -- be fruitful -- and multiply.,\n",
       " \"\n",
       " \n",
       " \"I can write you a poem, too, if you like.,\n",
       " ILYA SERGEITCH PEPLOV and his wife Kleopatra Petrovna were standing at the door, listening greedily.,\n",
       " \"Children,\" he muttered, lifting up his arms and blinking tearfully, \"the Lord bless you, my children.,\n",
       " A blessing with an ikon is sacred and binding. . .]"
      ]
     },
     "execution_count": 66,
     "metadata": {},
     "output_type": "execute_result"
    }
   ],
   "source": [
    "summary = nlargest(select_length, sentence_scores, key = sentence_scores.get)\n",
    "summary"
   ]
  },
  {
   "cell_type": "markdown",
   "id": "7c3af348",
   "metadata": {},
   "source": [
    "### combining the sentences"
   ]
  },
  {
   "cell_type": "code",
   "execution_count": 67,
   "id": "9580b169",
   "metadata": {},
   "outputs": [],
   "source": [
    "final_summary = [word.text for word in summary]\n",
    "summary = ' '.join(final_summary)"
   ]
  },
  {
   "cell_type": "code",
   "execution_count": 69,
   "id": "03a8b4fc",
   "metadata": {},
   "outputs": [
    {
     "name": "stdout",
     "output_type": "stream",
     "text": [
      "ILYA SERGEITCH PEPLOV and his wife Kleopatra Petrovna were standing at the door, listening greedily. On the other side in the little drawing-room a love scene was apparently taking place between two persons: their daughter Natashenka and a teacher of the district school, called Shchupkin.\n",
      "\n",
      "\"He's rising!\" whispered Peplov, quivering with impatience and rubbing his hands. \"Now, Kleopatra, mind; as soon as they begin talking of their feelings, take down the ikon from the wall and we'll go in and bless them. . . . We'll catch him. . . . A blessing with an ikon is sacred and binding. . . He couldn't get out of it, if he brought it into court.\"\n",
      "\n",
      "On the other side of the door this was the conversation:\n",
      "\n",
      "\"Don't go on like that!\" said Shchupkin, striking a match against his checked trousers. \"I never wrote you any letters!\"\n",
      "\n",
      "\"I like that! As though I didn't know your writing!\" giggled the girl with an affected shriek, continually peeping at herself in the glass. \"I knew it at once! And what a queer man you are! You are a writing master, and you write like a spider! How can you teach writing if you write so badly yourself?\"\n",
      "\n",
      "\"H'm! . . . That means nothing. The great thing in writing lessons is not the hand one writes, but keeping the boys in order. You hit one on the head with a ruler, make another kneel down. . . . Besides, there's nothing in handwriting! Nekrassov was an author, but his handwriting's a disgrace, there's a specimen of it in his collected works.\"\n",
      "\n",
      "\"You are not Nekrassov. . . .\" (A sigh). \"I should love to marry an author. He'd always be writing poems to me.\"\n",
      "\n",
      "\"I can write you a poem, too, if you like.\"\n",
      "\n",
      "\"What can you write about?\"\n",
      "\n",
      "\"Love -- passion -- your eyes. You'll be crazy when you read it. It would draw a tear from a stone! And if I write you a real poem, will you let me kiss your hand?\"\n",
      "\n",
      "\"That's nothing much! You can kiss it now if you like.\"\n",
      "\n",
      "Shchupkin jumped up, and making sheepish eyes, bent over the fat little hand that smelt of egg soap.\n",
      "\n",
      "\"Take down the ikon,\" Peplov whispered in a fluster, pale with excitement, and buttoning his coat as he prodded his wife with his elbow. \"Come along, now!\"\n",
      "\n",
      "And without a second's delay Peplov flung open the door.\n",
      "\n",
      "\"Children,\" he muttered, lifting up his arms and blinking tearfully, \"the Lord bless you, my children. May you live -- be fruitful -- and multiply.\"\n",
      "\n",
      "\"And -- and I bless you, too,\" the mamma brought out, crying with happiness. \"May you be happy, my dear ones! Oh, you are taking from me my only treasure!\" she said to Shchupkin. \"Love my girl, be good to her. . . .\"\n",
      "\n",
      "Shchupkin's mouth fell open with amazement and alarm. The parents' attack was so bold and unexpected that he could not utter a single word.\n",
      "\n",
      "\"I'm in for it! I'm spliced!\" he thought, going limp with horror. \"It's all over with you now, my boy! There's no escape!\"\n",
      "\n",
      "And he bowed his head submissively, as though to say, \"Take me, I'm vanquished.\"\n",
      "\n",
      "\"Ble-blessings on you,\" the papa went on, and he, too, shed tears. \"Natashenka, my daughter, stand by his side. Kleopatra, give me the ikon.\"\n",
      "\n",
      "But at this point the father suddenly left off weeping, and his face was contorted with anger.\n",
      "\n",
      "\"You ninny!\" he said angrily to his wife. \"You are an idiot! Is that the ikon?\"\n",
      "\n",
      "\"Ach, saints alive!\"\n",
      "\n",
      "What had happened? The writing master raised himself and saw that he was saved; in her flutter the mamma had snatched from the wall the portrait of Lazhetchnikov, the author, in mistake for the ikon. Old Peplov and his wife stood disconcerted in the middle of the room, holding the portrait aloft, not knowing what to do or what to say. The writing master took advantage of the general confusion and slipped away.\n",
      "\n",
      "\n"
     ]
    }
   ],
   "source": [
    "print(maintext)"
   ]
  },
  {
   "cell_type": "code",
   "execution_count": 70,
   "id": "495f5730",
   "metadata": {},
   "outputs": [
    {
     "name": "stdout",
     "output_type": "stream",
     "text": [
      "The writing master raised himself and saw that he was saved; in her flutter the mamma had snatched from the wall the portrait of Lazhetchnikov, the author, in mistake for the ikon. You are a writing master, and you write like a spider! \"\n",
      "\n",
      "\"What can you write about?\"\n",
      "\n",
      "\"Love -- passion -- your eyes. \"Take down the ikon,\" Peplov whispered in a fluster, pale with excitement, and buttoning his coat as he prodded his wife with his elbow. On the other side in the little drawing-room a love scene was apparently taking place between two persons: their daughter Natashenka and a teacher of the district school, called Shchupkin.\n",
      "\n",
      " The great thing in writing lessons is not the hand one writes, but keeping the boys in order. The writing master took advantage of the general confusion and slipped away.\n",
      "\n",
      " \"Now, Kleopatra, mind; as soon as they begin talking of their feelings, take down the ikon from the wall and we'll go in and bless them. . \"\n",
      "\n",
      "Shchupkin jumped up, and making sheepish eyes, bent over the fat little hand that smelt of egg soap.\n",
      "\n",
      " How can you teach writing if you write so badly yourself?\"\n",
      "\n",
      "\"H'm! . . . And if I write you a real poem, will you let me kiss your hand?\"\n",
      "\n",
      "\"That's nothing much! \"\n",
      "\n",
      "\"And -- and I bless you, too,\" the mamma brought out, crying with happiness. Old Peplov and his wife stood disconcerted in the middle of the room, holding the portrait aloft, not knowing what to do or what to say. May you live -- be fruitful -- and multiply. \"\n",
      "\n",
      "\"I can write you a poem, too, if you like. ILYA SERGEITCH PEPLOV and his wife Kleopatra Petrovna were standing at the door, listening greedily. \"Children,\" he muttered, lifting up his arms and blinking tearfully, \"the Lord bless you, my children. A blessing with an ikon is sacred and binding. . .\n"
     ]
    }
   ],
   "source": [
    "print(summary)"
   ]
  },
  {
   "cell_type": "code",
   "execution_count": 71,
   "id": "b01427bc",
   "metadata": {},
   "outputs": [
    {
     "data": {
      "text/plain": [
       "3679"
      ]
     },
     "execution_count": 71,
     "metadata": {},
     "output_type": "execute_result"
    }
   ],
   "source": [
    "len(maintext)"
   ]
  },
  {
   "cell_type": "code",
   "execution_count": 72,
   "id": "5136c792",
   "metadata": {},
   "outputs": [
    {
     "data": {
      "text/plain": [
       "1767"
      ]
     },
     "execution_count": 72,
     "metadata": {},
     "output_type": "execute_result"
    }
   ],
   "source": [
    "len(summary)"
   ]
  },
  {
   "cell_type": "code",
   "execution_count": null,
   "id": "6cee4f8e",
   "metadata": {},
   "outputs": [],
   "source": []
  }
 ],
 "metadata": {
  "kernelspec": {
   "display_name": "Python 3 (ipykernel)",
   "language": "python",
   "name": "python3"
  },
  "language_info": {
   "codemirror_mode": {
    "name": "ipython",
    "version": 3
   },
   "file_extension": ".py",
   "mimetype": "text/x-python",
   "name": "python",
   "nbconvert_exporter": "python",
   "pygments_lexer": "ipython3",
   "version": "3.11.4"
  }
 },
 "nbformat": 4,
 "nbformat_minor": 5
}
